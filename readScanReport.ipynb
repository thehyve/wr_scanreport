{
 "cells": [
  {
   "cell_type": "code",
   "execution_count": 2,
   "metadata": {},
   "outputs": [
    {
     "name": "stdout",
     "output_type": "stream",
     "text": [
      "concept -- 20\n"
     ]
    }
   ],
   "source": [
    "from model import ScanReport\n",
    "\n",
    "scanReport1 = ScanReport( 'data/ScanReport_concept_1.xlsx' )"
   ]
  },
  {
   "cell_type": "code",
   "execution_count": 3,
   "metadata": {},
   "outputs": [],
   "source": [
    "# Get a list of all the tables\n",
    "tables = scanReport1.getScanTables()"
   ]
  },
  {
   "cell_type": "code",
   "execution_count": 4,
   "metadata": {},
   "outputs": [
    {
     "name": "stdout",
     "output_type": "stream",
     "text": [
      "concept_id                  0\n",
      "concept_name             3443\n",
      "domain_id               99941\n",
      "vocabulary_id           99924\n",
      "concept_class_id        99637\n",
      "standard_concept       100000\n",
      "concept_code               50\n",
      "valid_start_date        85944\n",
      "valid_end_date          98036\n",
      "invalid_reason         100000\n"
     ]
    }
   ],
   "source": [
    "# Print the sum of the frequencies of each field\n",
    "tables[0].printTotals()"
   ]
  },
  {
   "cell_type": "code",
   "execution_count": null,
   "metadata": {},
   "outputs": [],
   "source": []
  }
 ],
 "metadata": {
  "kernelspec": {
   "display_name": "Python [default]",
   "language": "python",
   "name": "python2"
  },
  "language_info": {
   "codemirror_mode": {
    "name": "ipython",
    "version": 2
   },
   "file_extension": ".py",
   "mimetype": "text/x-python",
   "name": "python",
   "nbconvert_exporter": "python",
   "pygments_lexer": "ipython2",
   "version": "2.7.6"
  }
 },
 "nbformat": 4,
 "nbformat_minor": 1
}
